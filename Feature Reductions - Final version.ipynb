{
 "cells": [
  {
   "cell_type": "code",
   "execution_count": null,
   "metadata": {},
   "outputs": [],
   "source": [
    "import numpy as np\n",
    "import pandas as pd\n",
    "import time\n",
    "\n",
    "# For plotting\n",
    "import plotly.io as plt_io\n",
    "import plotly.graph_objects as go\n",
    "import plotly.express as px\n",
    "%matplotlib inline\n",
    "\n",
    "import seaborn as sns\n",
    "import matplotlib.pyplot as plt\n",
    "\n",
    "#PCA\n",
    "from sklearn.decomposition import PCA\n",
    "#TSNE\n",
    "from sklearn.manifold import TSNE\n",
    "#UMAP\n",
    "import umap.umap_ as umap\n",
    "# #LDA\n",
    "# from sklearn.discriminant_analysis import LinearDiscriminantAnalysis as LDA\n",
    "\n",
    "from sklearn.preprocessing import StandardScaler\n",
    "\n",
    "from sklearn.cluster import KMeans\n"
   ]
  },
  {
   "cell_type": "code",
   "execution_count": null,
   "metadata": {},
   "outputs": [],
   "source": [
    "###Refer to https://towardsdatascience.com/visualizing-dimensionality-reduction-18172a92e5ed\n",
    "\n",
    "def gen_plot(component1, component2, plt_title):\n",
    "\n",
    "    x = component1\n",
    "    y = component2\n",
    "    \n",
    "    plt.figure(figsize=(10, 5))\n",
    "    plt.scatter(x, y, c=[sns.color_palette()[i] for i in labels])\n",
    "    plt.gca().set_aspect('equal', 'datalim')\n",
    "    plt.title('{} Projection'.format(plt_title), fontsize=24)\n"
   ]
  },
  {
   "cell_type": "code",
   "execution_count": null,
   "metadata": {},
   "outputs": [],
   "source": [
    "def plot_2d_NEW(df, flag, name):\n",
    "    \n",
    "    flag = str(flag)\n",
    "\n",
    "    fig = px.scatter(df, \n",
    "                     x=\"x_component\", \n",
    "                     y=\"y_component\", \n",
    "                        color=\"label\",\n",
    "                    color_discrete_map={\n",
    "                        \"1\": \"red\",\n",
    "                        \"2\": \"green\",\n",
    "                        \"3\": \"blue\",\n",
    "                        \"4\": \"goldenrod\",\n",
    "                        \"5\": \"magenta\",\n",
    "                        \"6\": \"pink\",\n",
    "                        \"7\": \"yellow\"},\n",
    "                    title=\"<b> {} </b> Projection of Class <i> {} </i>\".format(name, flag))\n",
    "\n",
    "\n",
    "    fig.update_traces(marker=dict(size=9,\n",
    "                                line=dict(width=1)),\n",
    "                selector=dict(mode='markers'))\n",
    "\n",
    "        \n",
    "        \n",
    "    if flag != '0':\n",
    "        fig.for_each_trace(\n",
    "            lambda trace: \n",
    "                trace.update(opacity=0.1, marker = dict(line_width=0)) if trace.name != flag else (),\n",
    "        )\n",
    "\n",
    "\n",
    "\n",
    "    fig.show()"
   ]
  },
  {
   "cell_type": "code",
   "execution_count": null,
   "metadata": {},
   "outputs": [],
   "source": [
    "### Refer to https://towardsdatascience.com/dimensionality-reduction-for-data-visualization-pca-vs-tsne-vs-umap-be4aa7b1cb29plot\n",
    "\n",
    "def plot_2d(component1, component2, name, flag):\n",
    "    \n",
    "#     if class_num == 0:\n",
    "    new_label = labels\n",
    "        \n",
    "    fig = go.Figure(data=go.Scatter(\n",
    "            x = component1,\n",
    "            y = component2,\n",
    "            mode='markers',\n",
    "            marker=dict(\n",
    "                size=15,\n",
    "                color=new_label, \n",
    "                colorscale='Rainbow', \n",
    "                showscale=True,\n",
    "                line_width=0.8\n",
    "                )\n",
    "            ))\n",
    "#     else:\n",
    "#         new_label = (y == class_num).astype(int)\n",
    "        \n",
    "#         fig = go.Figure(data=go.Scatter(\n",
    "#             x = component1,\n",
    "#             y = component2,\n",
    "#             mode='markers',\n",
    "#             marker=dict(\n",
    "#                 size=15,\n",
    "#                 color=new_label,\n",
    "#                 colorscale=\"Picnic\",\n",
    "#                 line_width=0.8\n",
    "#                 )\n",
    "#             ))\n",
    "    \n",
    "\n",
    "    fig.update_layout(margin=dict( l=100,r=100,b=100,t=100),width=1000,height=800) \n",
    "    \n",
    "    fig.update_layout(\n",
    "    title={\n",
    "        'text': \"<b>2D Diagram - <i> {} </i> </b>\".format(name),\n",
    "        'font' : {\n",
    "            \"family\": \"Times New Roman\",\n",
    "            \"size\": 30\n",
    "        }\n",
    "    })    \n",
    "    \n",
    "    fig.update_layout(hovermode=\"closest\") ###x, x unified, y, u unified\n",
    "    \n",
    "    if flag == True:\n",
    "        fig.update_xaxes(showspikes=True)\n",
    "        fig.update_yaxes(showspikes=True)\n",
    "    \n",
    "    fig.layout.template = 'seaborn'\n",
    "    \n",
    "    fig.show()"
   ]
  },
  {
   "cell_type": "code",
   "execution_count": null,
   "metadata": {},
   "outputs": [],
   "source": [
    "def plot_3d(component1,component2,component3, name):\n",
    "    fig = go.Figure(data=[go.Scatter3d(\n",
    "        x=component1,\n",
    "        y=component2,\n",
    "        z=component3,\n",
    "        mode='markers',\n",
    "        marker=dict(\n",
    "            size=10,\n",
    "            color=labels,               \n",
    "            colorscale='Rainbow',  \n",
    "            opacity=1,\n",
    "            showscale=True,\n",
    "            line_width=1\n",
    "        )\n",
    "    )])\n",
    "    \n",
    "# tight layout\n",
    "    fig.update_layout(margin=dict(l=50,r=50,b=50,t=50),width=800,height=600)\n",
    "    \n",
    "    fig.update_layout(\n",
    "        title={\n",
    "            'text': \"<b>3D Diagram - <i> {} </i> </b>\".format(name),\n",
    "            'font' : {\n",
    "                \"family\": \"Times New Roman\",\n",
    "                \"size\": 30\n",
    "            }\n",
    "    })  \n",
    "    \n",
    "    fig.update_layout(hovermode=\"closest\") ###x, x unified, y, u unified\n",
    "    fig.layout.template = 'plotly_dark'\n",
    "    \n",
    "    fig.show()"
   ]
  },
  {
   "cell_type": "code",
   "execution_count": null,
   "metadata": {},
   "outputs": [],
   "source": [
    "# train = pd.read_csv('sign_mnist_test.csv')\n",
    "# # picking only the first 10 labels\n",
    "# train = train[train['label'] < 10]\n",
    "\n",
    "# print(len(train))\n",
    "# print(train.head())\n",
    "# print(len(train[\"label\"]))\n",
    "\n",
    "### (1) Dataset: Dry Bean Classification\n",
    "### (2) Dataset: MNIST Digit Recognizer - Image Classification\n",
    "\n",
    "\n",
    "dataset = 2\n",
    "\n",
    "if dataset == 2:\n",
    "\n",
    "    ### Classification dataset\n",
    "    train = pd.read_csv('digit_recognizer_train.csv')\n",
    "    train = train[train['label'] > 0]\n",
    "    train = train[train['label'] < 8]\n",
    "    train = train.sample(n=3000)\n",
    "\n",
    "    TSNE_component = 50\n",
    "\n",
    "    # Setting the label and the feature columns\n",
    "#     y = train.loc[:,'label'].values\n",
    "    x = train.loc[:,'pixel0':].values\n",
    "\n",
    "    ## Standardizing the data\n",
    "    x = StandardScaler().fit_transform(x)\n",
    "\n",
    "elif dataset == 1:\n",
    "\n",
    "    ### Dry Bean dataset\n",
    "    train = pd.read_csv('DryBeanDataset/Dry_Bean_Dataset.csv')\n",
    "    train = train.sample(n=3000)\n",
    "\n",
    "    TSNE_component = 10\n",
    "\n",
    "    # print(len(pd.unique(train[class_row])))\n",
    "\n",
    "    # Setting the label and the feature columns\n",
    "#     y = train.loc[:,'Class'].values\n",
    "    x = train.loc[:,:'ShapeFactor4'].values\n",
    "\n",
    "    # ## Standardizing the data\n",
    "    x = StandardScaler().fit_transform(x)\n",
    "\n",
    "kmeans = KMeans(\n",
    "    init=\"random\",\n",
    "    n_clusters=7,\n",
    "    n_init=10,\n",
    "    max_iter=300,\n",
    ")\n",
    "\n"
   ]
  },
  {
   "cell_type": "code",
   "execution_count": null,
   "metadata": {},
   "outputs": [],
   "source": [
    "pca = PCA(n_components=3)\n",
    "principalComponents = pca.fit_transform(x)\n",
    "principal = pd.DataFrame(data = principalComponents\n",
    "             , columns = ['principal component 1', 'principal component 2','principal component 3'])"
   ]
  },
  {
   "cell_type": "code",
   "execution_count": null,
   "metadata": {},
   "outputs": [],
   "source": [
    "cluster_result = kmeans.fit(principalComponents)\n",
    "labels = (cluster_result.labels_).tolist()\n",
    "\n",
    "labels = [7 if x==0 else x for x in labels]"
   ]
  },
  {
   "cell_type": "code",
   "execution_count": null,
   "metadata": {},
   "outputs": [],
   "source": [
    "gen_plot(principalComponents[:, 0],principalComponents[:, 1], \"PCA\")"
   ]
  },
  {
   "cell_type": "code",
   "execution_count": null,
   "metadata": {},
   "outputs": [],
   "source": [
    "spike_line = False ### Showing spike line or not\n",
    "\n",
    "plot_2d(principalComponents[:, 0],principalComponents[:, 1], \"PCA\", spike_line)"
   ]
  },
  {
   "cell_type": "code",
   "execution_count": null,
   "metadata": {},
   "outputs": [],
   "source": [
    "x_components = np.array(principalComponents[:, 0])\n",
    "y_components = np.array(principalComponents[:, 1])\n",
    "# labels = np.array(y)\n",
    "\n",
    "df = pd.DataFrame({'label': np.array(labels), 'x_component': x_components, 'y_component': y_components}, \n",
    "                  columns=['label', 'x_component', 'y_component'])\n",
    "\n",
    "df['label'] = df['label'].astype(str)"
   ]
  },
  {
   "cell_type": "code",
   "execution_count": null,
   "metadata": {},
   "outputs": [],
   "source": [
    "label_to_check = 7 ### Check a specific group (1-9); 0 means no specific group chosen\n",
    "\n",
    "plot_2d_NEW(df, label_to_check, \"PCA\")"
   ]
  },
  {
   "cell_type": "code",
   "execution_count": null,
   "metadata": {},
   "outputs": [],
   "source": [
    "plot_3d(principalComponents[:, 0],principalComponents[:, 1],principalComponents[:, 2], \"PCA\")"
   ]
  },
  {
   "cell_type": "code",
   "execution_count": null,
   "metadata": {},
   "outputs": [],
   "source": [
    "pca_50 = PCA(n_components=TSNE_component)\n",
    "pca_result_50 = pca_50.fit_transform(x)\n",
    "tsne = TSNE(random_state = 42, n_components=3,verbose=0, perplexity=40, n_iter=400).fit_transform(pca_result_50)"
   ]
  },
  {
   "cell_type": "code",
   "execution_count": null,
   "metadata": {},
   "outputs": [],
   "source": [
    "cluster_result = kmeans.fit(tsne)\n",
    "labels = (cluster_result.labels_).tolist()\n",
    "\n",
    "labels = [7 if x==0 else x for x in labels]"
   ]
  },
  {
   "cell_type": "code",
   "execution_count": null,
   "metadata": {},
   "outputs": [],
   "source": [
    "gen_plot(tsne[:, 0],tsne[:, 1], \"TSNE\")"
   ]
  },
  {
   "cell_type": "code",
   "execution_count": null,
   "metadata": {},
   "outputs": [],
   "source": [
    "spike_line = False ### Showing spike line or not\n",
    "\n",
    "plot_2d(tsne[:, 0],tsne[:, 1], \"TSNE\", spike_line)"
   ]
  },
  {
   "cell_type": "code",
   "execution_count": null,
   "metadata": {},
   "outputs": [],
   "source": [
    "x_components = np.array(tsne[:, 0])\n",
    "y_components = np.array(tsne[:, 1])\n",
    "\n",
    "df = pd.DataFrame({'label': np.array(labels), 'x_component': x_components, 'y_component': y_components}, \n",
    "                  columns=['label', 'x_component', 'y_component'])\n",
    "\n",
    "df['label'] = df['label'].astype(str)"
   ]
  },
  {
   "cell_type": "code",
   "execution_count": null,
   "metadata": {},
   "outputs": [],
   "source": [
    "label_to_check = 4 ### Check a specific group (1-9); 0 means no specific group chosen\n",
    "\n",
    "plot_2d_NEW(df, label_to_check, \"TSNE\")"
   ]
  },
  {
   "cell_type": "code",
   "execution_count": null,
   "metadata": {},
   "outputs": [],
   "source": [
    "plot_3d(tsne[:, 0],tsne[:, 1],tsne[:, 2], \"TSNE\")"
   ]
  },
  {
   "cell_type": "code",
   "execution_count": null,
   "metadata": {},
   "outputs": [],
   "source": [
    "if dataset == 2:\n",
    "    reducer = umap.UMAP(random_state=42,n_components=3)\n",
    "    \n",
    "elif dataset == 1:\n",
    "    reducer = umap.UMAP(n_components=3)\n",
    "    \n",
    "embedding = reducer.fit_transform(x)"
   ]
  },
  {
   "cell_type": "code",
   "execution_count": null,
   "metadata": {},
   "outputs": [],
   "source": [
    "cluster_result = kmeans.fit(embedding)\n",
    "labels = (cluster_result.labels_).tolist()\n",
    "\n",
    "labels = [7 if x==0 else x for x in labels]"
   ]
  },
  {
   "cell_type": "code",
   "execution_count": null,
   "metadata": {},
   "outputs": [],
   "source": [
    "gen_plot(embedding[:, 0],embedding[:, 1], \"UMAP\")"
   ]
  },
  {
   "cell_type": "code",
   "execution_count": null,
   "metadata": {
    "scrolled": false
   },
   "outputs": [],
   "source": [
    "spike_line = False ### Showing spike line or not\n",
    "\n",
    "plot_2d(reducer.embedding_[:, 0],reducer.embedding_[:, 1], \"UMAP\", spike_line)"
   ]
  },
  {
   "cell_type": "code",
   "execution_count": null,
   "metadata": {},
   "outputs": [],
   "source": [
    "x_components = np.array(reducer.embedding_[:, 0])\n",
    "y_components = np.array(reducer.embedding_[:, 1])\n",
    "\n",
    "df = pd.DataFrame({'label': np.array(labels), 'x_component': x_components, 'y_component': y_components}, \n",
    "                  columns=['label', 'x_component', 'y_component'])\n",
    "\n",
    "df['label'] = df['label'].astype(str)"
   ]
  },
  {
   "cell_type": "code",
   "execution_count": null,
   "metadata": {
    "scrolled": false
   },
   "outputs": [],
   "source": [
    "label_to_check = 4 ### Check a specific group (1-9); 0 means no specific group chosen\n",
    "\n",
    "plot_2d_NEW(df, label_to_check, \"UMAP\")"
   ]
  },
  {
   "cell_type": "code",
   "execution_count": null,
   "metadata": {},
   "outputs": [],
   "source": [
    "plot_3d(reducer.embedding_[:, 0],reducer.embedding_[:, 1],reducer.embedding_[:, 2], \"UMAP\")"
   ]
  },
  {
   "cell_type": "code",
   "execution_count": null,
   "metadata": {},
   "outputs": [],
   "source": []
  },
  {
   "cell_type": "code",
   "execution_count": null,
   "metadata": {},
   "outputs": [],
   "source": []
  }
 ],
 "metadata": {
  "kernelspec": {
   "display_name": "Python 3",
   "language": "python",
   "name": "python3"
  },
  "language_info": {
   "codemirror_mode": {
    "name": "ipython",
    "version": 3
   },
   "file_extension": ".py",
   "mimetype": "text/x-python",
   "name": "python",
   "nbconvert_exporter": "python",
   "pygments_lexer": "ipython3",
   "version": "3.8.5"
  }
 },
 "nbformat": 4,
 "nbformat_minor": 5
}
