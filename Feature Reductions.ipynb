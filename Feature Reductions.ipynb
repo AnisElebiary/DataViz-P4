{
 "cells": [
  {
   "cell_type": "code",
   "execution_count": null,
   "id": "b64b80e0",
   "metadata": {},
   "outputs": [],
   "source": [
    "### Refer to https://towardsdatascience.com/dimensionality-reduction-for-data-visualization-pca-vs-tsne-vs-umap-be4aa7b1cb29\n",
    "\n",
    "\n",
    "import numpy as np\n",
    "import pandas as pd\n",
    "import time\n",
    "\n",
    "# For plotting\n",
    "import plotly.io as plt_io\n",
    "import plotly.graph_objects as go\n",
    "%matplotlib inline\n",
    "\n",
    "###Refer to https://towardsdatascience.com/visualizing-dimensionality-reduction-18172a92e5ed\n",
    "\n",
    "###NEW\n",
    "import seaborn as sns\n",
    "import matplotlib.pyplot as plt\n",
    "\n",
    "#PCA\n",
    "from sklearn.decomposition import PCA\n",
    "#TSNE\n",
    "from sklearn.manifold import TSNE\n",
    "#UMAP\n",
    "import umap.umap_ as umap\n",
    "#LDA\n",
    "from sklearn.discriminant_analysis import LinearDiscriminantAnalysis as LDA\n"
   ]
  },
  {
   "cell_type": "code",
   "execution_count": null,
   "id": "cb427055",
   "metadata": {},
   "outputs": [],
   "source": [
    "def plot_plt(component1, component2):\n",
    "\n",
    "    x = component1\n",
    "    y = component2\n",
    "    \n",
    "    plt.scatter(x, y, c=[sns.color_palette()[i] for i in train['label']])\n",
    "    plt.gca().set_aspect('equal', 'datalim')\n",
    "    plt.title('Projection', fontsize=24)"
   ]
  },
  {
   "cell_type": "code",
   "execution_count": null,
   "id": "051a9ad9",
   "metadata": {},
   "outputs": [],
   "source": [
    "def plot_2d(component1, component2):\n",
    "    \n",
    "    fig = go.Figure(data=go.Scatter(\n",
    "        x = component1,\n",
    "        y = component2,\n",
    "        mode='markers',\n",
    "        marker=dict(\n",
    "            size=20,\n",
    "            color=y, #set color equal to a variable\n",
    "            colorscale='Rainbow', # one of plotly colorscales\n",
    "            showscale=True,\n",
    "            line_width=1\n",
    "        )\n",
    "    ))\n",
    "    fig.update_layout(margin=dict( l=100,r=100,b=100,t=100),width=1000,height=800)                 \n",
    "    fig.layout.template = 'plotly_dark'\n",
    "    \n",
    "    fig.show()"
   ]
  },
  {
   "cell_type": "code",
   "execution_count": null,
   "id": "7627ceca",
   "metadata": {},
   "outputs": [],
   "source": [
    "def plot_3d(component1,component2,component3):\n",
    "    fig = go.Figure(data=[go.Scatter3d(\n",
    "        x=component1,\n",
    "        y=component2,\n",
    "        z=component3,\n",
    "        mode='markers',\n",
    "        marker=dict(\n",
    "            size=10,\n",
    "            color=y,                # set color to an array/list of desired values\n",
    "            colorscale='Rainbow',   # choose a colorscale\n",
    "            opacity=1,\n",
    "            line_width=1\n",
    "        )\n",
    "    )])\n",
    "# tight layout\n",
    "    fig.update_layout(margin=dict(l=50,r=50,b=50,t=50),width=1000,height=800)\n",
    "    fig.layout.template = 'plotly_dark'\n",
    "    \n",
    "    fig.show()"
   ]
  },
  {
   "cell_type": "code",
   "execution_count": null,
   "id": "3a018bfb",
   "metadata": {},
   "outputs": [],
   "source": [
    "train = pd.read_csv('sign_mnist_test.csv')\n",
    "train.head()\n",
    "\n",
    "#picking only the first 10 labels\n",
    "train = train[train['label'] < 10]\n",
    "# Setting the label and the feature columns\n",
    "y = train.loc[:,'label'].values\n",
    "x = train.loc[:,'pixel1':].values\n",
    "\n",
    "\n",
    "from sklearn.preprocessing import StandardScaler\n",
    "## Standardizing the data\n",
    "x = StandardScaler().fit_transform(x)"
   ]
  },
  {
   "cell_type": "code",
   "execution_count": null,
   "id": "5bb03a3c",
   "metadata": {},
   "outputs": [],
   "source": [
    "start = time.time()\n",
    "pca = PCA(n_components=3)\n",
    "principalComponents = pca.fit_transform(x)\n",
    "print('Duration: {} seconds'.format(time.time() - start))\n",
    "principal = pd.DataFrame(data = principalComponents\n",
    "             , columns = ['principal component 1', 'principal component 2','principal component 3'])\n"
   ]
  },
  {
   "cell_type": "code",
   "execution_count": null,
   "id": "5480c3cf",
   "metadata": {},
   "outputs": [],
   "source": [
    "plot_plt(principalComponents[:, 0],principalComponents[:, 1])"
   ]
  },
  {
   "cell_type": "code",
   "execution_count": null,
   "id": "6e393b2f",
   "metadata": {},
   "outputs": [],
   "source": [
    "plot_2d(principalComponents[:, 0],principalComponents[:, 1])"
   ]
  },
  {
   "cell_type": "code",
   "execution_count": null,
   "id": "85abd970",
   "metadata": {},
   "outputs": [],
   "source": [
    "plot_3d(principalComponents[:, 0],principalComponents[:, 1],principalComponents[:, 2])"
   ]
  },
  {
   "cell_type": "code",
   "execution_count": null,
   "id": "306459c8",
   "metadata": {},
   "outputs": [],
   "source": [
    "start = time.time()\n",
    "pca_50 = PCA(n_components=50)\n",
    "pca_result_50 = pca_50.fit_transform(x)\n",
    "tsne = TSNE(random_state = 42, n_components=3,verbose=0, perplexity=40, n_iter=400).fit_transform(pca_result_50)\n",
    "print('Duration: {} seconds'.format(time.time() - start))"
   ]
  },
  {
   "cell_type": "code",
   "execution_count": null,
   "id": "317fd1fa",
   "metadata": {},
   "outputs": [],
   "source": [
    "plot_plt(tsne[:, 0],tsne[:, 1])"
   ]
  },
  {
   "cell_type": "code",
   "execution_count": null,
   "id": "03fe55dd",
   "metadata": {},
   "outputs": [],
   "source": [
    "plot_2d(tsne[:, 0],tsne[:, 1])"
   ]
  },
  {
   "cell_type": "code",
   "execution_count": null,
   "id": "6bf8be0d",
   "metadata": {},
   "outputs": [],
   "source": [
    "plot_3d(tsne[:, 0],tsne[:, 1],tsne[:, 2])"
   ]
  },
  {
   "cell_type": "code",
   "execution_count": null,
   "id": "68d000ad",
   "metadata": {},
   "outputs": [],
   "source": [
    "start = time.time()\n",
    "reducer = umap.UMAP(random_state=42,n_components=3)\n",
    "embedding = reducer.fit_transform(x)\n",
    "print('Duration: {} seconds'.format(time.time() - start))"
   ]
  },
  {
   "cell_type": "code",
   "execution_count": null,
   "id": "b0e16bf9",
   "metadata": {},
   "outputs": [],
   "source": [
    "plot_plt(embedding[:, 0],embedding[:, 1])"
   ]
  },
  {
   "cell_type": "code",
   "execution_count": null,
   "id": "4f432e38",
   "metadata": {},
   "outputs": [],
   "source": [
    "plot_2d(reducer.embedding_[:, 0],reducer.embedding_[:, 1])"
   ]
  },
  {
   "cell_type": "code",
   "execution_count": null,
   "id": "2c313b58",
   "metadata": {},
   "outputs": [],
   "source": [
    "plot_3d(reducer.embedding_[:, 0],reducer.embedding_[:, 1],reducer.embedding_[:, 2])"
   ]
  },
  {
   "cell_type": "code",
   "execution_count": null,
   "id": "adaf123f",
   "metadata": {},
   "outputs": [],
   "source": [
    "start = time.time()\n",
    "X_LDA = LDA(n_components=3).fit_transform(x,y)\n",
    "print('Duration: {} seconds'.format(time.time() - start))"
   ]
  },
  {
   "cell_type": "code",
   "execution_count": null,
   "id": "ffb0ddb7",
   "metadata": {},
   "outputs": [],
   "source": [
    "plot_plt(X_LDA[:, 0],X_LDA[:, 1])"
   ]
  },
  {
   "cell_type": "code",
   "execution_count": null,
   "id": "84e6cdef",
   "metadata": {},
   "outputs": [],
   "source": [
    "plot_2d(X_LDA[:, 0],X_LDA[:, 1])"
   ]
  },
  {
   "cell_type": "code",
   "execution_count": null,
   "id": "9679c12c",
   "metadata": {},
   "outputs": [],
   "source": [
    "plot_3d(X_LDA[:, 0],X_LDA[:, 1],X_LDA[:, 2])"
   ]
  },
  {
   "cell_type": "code",
   "execution_count": null,
   "id": "eb0c87e3",
   "metadata": {},
   "outputs": [],
   "source": []
  }
 ],
 "metadata": {
  "kernelspec": {
   "display_name": "Python 3 (ipykernel)",
   "language": "python",
   "name": "python3"
  },
  "language_info": {
   "codemirror_mode": {
    "name": "ipython",
    "version": 3
   },
   "file_extension": ".py",
   "mimetype": "text/x-python",
   "name": "python",
   "nbconvert_exporter": "python",
   "pygments_lexer": "ipython3",
   "version": "3.9.8"
  }
 },
 "nbformat": 4,
 "nbformat_minor": 5
}
