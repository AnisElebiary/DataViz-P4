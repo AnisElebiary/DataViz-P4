{
 "cells": [
  {
   "cell_type": "code",
   "execution_count": null,
   "id": "93d6f21d",
   "metadata": {},
   "outputs": [],
   "source": [
    "import numpy as np\n",
    "import pandas as pd\n",
    "import time\n",
    "\n",
    "# For plotting\n",
    "import plotly.io as plt_io\n",
    "import plotly.graph_objects as go\n",
    "import plotly.express as px\n",
    "%matplotlib inline\n",
    "\n",
    "import seaborn as sns\n",
    "import matplotlib.pyplot as plt\n",
    "\n",
    "#PCA\n",
    "from sklearn.decomposition import PCA\n",
    "#TSNE\n",
    "from sklearn.manifold import TSNE\n",
    "#UMAP\n",
    "import umap.umap_ as umap\n",
    "# #LDA\n",
    "# from sklearn.discriminant_analysis import LinearDiscriminantAnalysis as LDA\n",
    "\n",
    "from sklearn.preprocessing import StandardScaler\n",
    "\n",
    "from sklearn.cluster import KMeans"
   ]
  },
  {
   "cell_type": "code",
   "execution_count": null,
   "id": "e8c9db6f",
   "metadata": {},
   "outputs": [],
   "source": []
  },
  {
   "cell_type": "code",
   "execution_count": null,
   "id": "27620240",
   "metadata": {},
   "outputs": [],
   "source": []
  },
  {
   "cell_type": "code",
   "execution_count": null,
   "id": "fe2307d8",
   "metadata": {},
   "outputs": [],
   "source": [
    "    train = pd.read_csv('digit_recognizer_train.csv')\n",
    "    train = train[train['label'] > 0]\n",
    "    train = train[train['label'] < 8]\n",
    "    train = train.sample(n=3000)\n",
    "\n",
    "    target_name = 'label'\n",
    "    TSNE_component = 50\n",
    "\n",
    "    # Setting the label and the feature columns\n",
    "    y = train.loc[:,'label'].values\n",
    "    x = train.loc[:,'pixel0':].values\n",
    "\n",
    "    ## Standardizing the data\n",
    "    x = StandardScaler().fit_transform(x)"
   ]
  },
  {
   "cell_type": "code",
   "execution_count": null,
   "id": "4b19133f",
   "metadata": {},
   "outputs": [],
   "source": []
  },
  {
   "cell_type": "code",
   "execution_count": null,
   "id": "de899b9e",
   "metadata": {},
   "outputs": [],
   "source": [
    "kmeans = KMeans(\n",
    "    init=\"random\",\n",
    "    n_clusters=7,\n",
    "    n_init=10,\n",
    "    max_iter=300,\n",
    ")\n",
    "\n",
    "cluster_result = kmeans.fit(x)\n",
    "result_label = (cluster_result.labels_).tolist()"
   ]
  },
  {
   "cell_type": "code",
   "execution_count": null,
   "id": "a48bda8d",
   "metadata": {},
   "outputs": [],
   "source": [
    "def gen_plot(component1, component2, plt_title, y_name):\n",
    "\n",
    "    x = component1\n",
    "    y = component2\n",
    "    \n",
    "    plt.figure(figsize=(10, 5))\n",
    "    plt.scatter(x, y, c=[sns.color_palette()[i] for i in result_label])\n",
    "    plt.gca().set_aspect('equal', 'datalim')\n",
    "    plt.title('{} Projection'.format(plt_title), fontsize=24)"
   ]
  },
  {
   "cell_type": "code",
   "execution_count": null,
   "id": "544f1036",
   "metadata": {},
   "outputs": [],
   "source": [
    "pca = PCA(n_components=3)\n",
    "principalComponents = pca.fit_transform(x)\n",
    "principal = pd.DataFrame(data = principalComponents\n",
    "             , columns = ['principal component 1', 'principal component 2','principal component 3'])"
   ]
  },
  {
   "cell_type": "code",
   "execution_count": null,
   "id": "efef1a63",
   "metadata": {},
   "outputs": [],
   "source": [
    "gen_plot(principalComponents[:, 0],principalComponents[:, 1], \"PCA\", target_name)"
   ]
  },
  {
   "cell_type": "code",
   "execution_count": null,
   "id": "75095804",
   "metadata": {},
   "outputs": [],
   "source": [
    "cluster_result = kmeans.fit(principalComponents)\n",
    "result_label = (cluster_result.labels_).tolist()"
   ]
  },
  {
   "cell_type": "code",
   "execution_count": null,
   "id": "6a04cc6b",
   "metadata": {},
   "outputs": [],
   "source": [
    "gen_plot(principalComponents[:, 0],principalComponents[:, 1], \"PCA\", target_name)"
   ]
  },
  {
   "cell_type": "code",
   "execution_count": null,
   "id": "1479b868",
   "metadata": {},
   "outputs": [],
   "source": []
  },
  {
   "cell_type": "code",
   "execution_count": null,
   "id": "ecaa076f",
   "metadata": {},
   "outputs": [],
   "source": []
  }
 ],
 "metadata": {
  "kernelspec": {
   "display_name": "Python 3 (ipykernel)",
   "language": "python",
   "name": "python3"
  },
  "language_info": {
   "codemirror_mode": {
    "name": "ipython",
    "version": 3
   },
   "file_extension": ".py",
   "mimetype": "text/x-python",
   "name": "python",
   "nbconvert_exporter": "python",
   "pygments_lexer": "ipython3",
   "version": "3.9.8"
  }
 },
 "nbformat": 4,
 "nbformat_minor": 5
}
